{
 "cells": [
  {
   "cell_type": "markdown",
   "id": "8904658a",
   "metadata": {},
   "source": [
    "# CosmoAI Week 2 Assignment\n",
    "### Submitted by Roopmathi Gunna"
   ]
  },
  {
   "cell_type": "code",
   "execution_count": null,
   "id": "31ad35fc",
   "metadata": {},
   "outputs": [],
   "source": [
    "# This is Python assignment submission for Cosmo AI Learning community\n",
    "# Author: Roopmathi Gunna \n",
    "#Date created: 12-Aug-2023"
   ]
  },
  {
   "cell_type": "markdown",
   "id": "9d63ce95",
   "metadata": {},
   "source": [
    "### Q1. Write a program to calculate the sum of two numbers entered by the user."
   ]
  },
  {
   "cell_type": "code",
   "execution_count": 8,
   "id": "f3ea9801",
   "metadata": {},
   "outputs": [
    {
     "name": "stdout",
     "output_type": "stream",
     "text": [
      "Enter the first number: 8\n",
      "Enter the second number: 4\n",
      "Sum of two numbers you entered is: 12.0\n"
     ]
    }
   ],
   "source": [
    "num1 = float(input(\"Enter the first number: \"))\n",
    "num2 = float(input(\"Enter the second number: \"))\n",
    "\n",
    "sum_result = num1 + num2\n",
    "print(\"Sum of two numbers you entered is:\", sum_result)"
   ]
  },
  {
   "cell_type": "markdown",
   "id": "f0cc433d",
   "metadata": {},
   "source": [
    "### Q2. Write a program to swap the values of two variables."
   ]
  },
  {
   "cell_type": "code",
   "execution_count": 2,
   "id": "6e2a838f",
   "metadata": {},
   "outputs": [
    {
     "name": "stdout",
     "output_type": "stream",
     "text": [
      "Enter the value of variable 'a': 5\n",
      "Enter the value of variable 'b': 6\n",
      "After swapping:\n",
      "Value of 'a': 6\n",
      "Value of 'b': 5\n"
     ]
    }
   ],
   "source": [
    "a = int(input(\"Enter the value of variable 'a': \"))\n",
    "b = int(input(\"Enter the value of variable 'b': \"))\n",
    "\n",
    "# Iam swapping using a temporary variable\n",
    "temp = a\n",
    "a = b\n",
    "b = temp\n",
    "\n",
    "print(\"After swapping:\")\n",
    "print(\"Value of 'a':\", a)\n",
    "print(\"Value of 'b':\", b)\n"
   ]
  },
  {
   "cell_type": "markdown",
   "id": "978f04ce",
   "metadata": {},
   "source": [
    "### Q3. Write a program to calculate the area of a rectangle given its length and width.\n"
   ]
  },
  {
   "cell_type": "code",
   "execution_count": 4,
   "id": "dcc5c70d",
   "metadata": {},
   "outputs": [
    {
     "name": "stdout",
     "output_type": "stream",
     "text": [
      "Enter the length of the rectangle: 8\n",
      "Enter the width of the rectangle: 5\n",
      "Area of the rectangle: 40.0\n"
     ]
    }
   ],
   "source": [
    "length = float(input(\"Enter the length of the rectangle: \"))\n",
    "width = float(input(\"Enter the width of the rectangle: \"))\n",
    "\n",
    "area = length * width\n",
    "print(\"Area of the rectangle:\", area)\n"
   ]
  },
  {
   "cell_type": "markdown",
   "id": "9a4e4b9f",
   "metadata": {},
   "source": [
    "### Q4. Write a program to convert temperature from Celsius to Fahrenheit."
   ]
  },
  {
   "cell_type": "code",
   "execution_count": 6,
   "id": "fa41fe77",
   "metadata": {
    "scrolled": true
   },
   "outputs": [
    {
     "name": "stdout",
     "output_type": "stream",
     "text": [
      "Enter temperature in Celsius: 32\n",
      "Temperature in Fahrenheit is: 89.6 F\n"
     ]
    }
   ],
   "source": [
    "celsius = float(input(\"Enter temperature in Celsius: \"))\n",
    "fahrenheit = (celsius * 9/5) + 32\n",
    "\n",
    "print(\"Temperature in Fahrenheit is:\", fahrenheit, \"F\")\n"
   ]
  },
  {
   "cell_type": "markdown",
   "id": "14fa25f3",
   "metadata": {},
   "source": [
    "### Q5. Write a program to find the maximum of three numbers entered by the user."
   ]
  },
  {
   "cell_type": "code",
   "execution_count": 33,
   "id": "6193738e",
   "metadata": {
    "scrolled": true
   },
   "outputs": [
    {
     "name": "stdout",
     "output_type": "stream",
     "text": [
      "Enter the first number: 3\n",
      "Enter the second number: 8\n",
      "Enter the third number: 5\n",
      " The Maximum number is : 8.0\n"
     ]
    }
   ],
   "source": [
    "num1 = float(input(\"Enter the first number: \"))\n",
    "num2 = float(input(\"Enter the second number: \"))\n",
    "num3 = float(input(\"Enter the third number: \"))\n",
    "\n",
    "max_number = max(num1, num2, num3)\n",
    "print(\" The Maximum number is :\", max_number)\n"
   ]
  },
  {
   "cell_type": "markdown",
   "id": "5b1bd62b",
   "metadata": {},
   "source": [
    "### Conversion Tasks"
   ]
  },
  {
   "cell_type": "markdown",
   "id": "aeabe63b",
   "metadata": {},
   "source": [
    "### Q6. Convert from integer to string"
   ]
  },
  {
   "cell_type": "code",
   "execution_count": 26,
   "id": "e51613d0",
   "metadata": {},
   "outputs": [
    {
     "name": "stdout",
     "output_type": "stream",
     "text": [
      "Enter an integer: 9\n",
      "Integer: 9\n",
      "String: 9\n",
      "Data type after conversion: <class 'str'>\n"
     ]
    }
   ],
   "source": [
    "# Get an integer from the user and validate input with a Try and Except block\n",
    "\n",
    "try:\n",
    "    integer_num = int(input(\"Enter an integer: \"))\n",
    "    \n",
    "    # Convert the integer to a string\n",
    "    string_num = str(integer_num)\n",
    "\n",
    "    print(\"Integer:\", integer_num)\n",
    "    print(\"String:\", string_num)\n",
    "    print(\"Data type after conversion:\", type(string_num))\n",
    "except ValueError:\n",
    "    print(\"Invalid input. Please enter a valid integer.\")\n"
   ]
  },
  {
   "cell_type": "markdown",
   "id": "9708409a",
   "metadata": {},
   "source": [
    "### Q7. Convert from string to float"
   ]
  },
  {
   "cell_type": "code",
   "execution_count": 27,
   "id": "fc2d90c9",
   "metadata": {},
   "outputs": [
    {
     "name": "stdout",
     "output_type": "stream",
     "text": [
      "Enter a floating-point number as a string: 976802356743.123456\n",
      "String: 976802356743.123456\n",
      "Float: 976802356743.1234\n",
      "Data type after conversion: <class 'float'>\n"
     ]
    }
   ],
   "source": [
    "# Get a string from the user\n",
    "string_float = input(\"Enter a floating-point number as a string: \")\n",
    "\n",
    "try:\n",
    "    # Convert the string to a float\n",
    "    float_num = float(string_float)\n",
    "    \n",
    "    print(\"String:\", string_float)\n",
    "    print(\"Float:\", float_num)\n",
    "    print(\"Data type after conversion:\", type(float_num))\n",
    "except ValueError:\n",
    "    print(\"Invalid input. Please enter a valid floating-point number.\")\n"
   ]
  },
  {
   "cell_type": "markdown",
   "id": "24d865ac",
   "metadata": {},
   "source": [
    "### Q8. Convert from list to string"
   ]
  },
  {
   "cell_type": "code",
   "execution_count": 29,
   "id": "952167b7",
   "metadata": {},
   "outputs": [
    {
     "name": "stdout",
     "output_type": "stream",
     "text": [
      "Enter a list of elements separated by commas: 1,2,3,4,5,q,w,e,r,t,y,&,*,%,A,S,D,7,8,9\n",
      "List: 1,2,3,4,5,q,w,e,r,t,y,&,*,%,A,S,D,7,8,9\n",
      "String: 1, 2, 3, 4, 5, q, w, e, r, t, y, &, *, %, A, S, D, 7, 8, 9\n",
      "Data type after conversion: <class 'str'>\n"
     ]
    }
   ],
   "source": [
    "# Get input list from the user\n",
    "input_list = input(\"Enter a list of elements separated by commas: \")\n",
    "\n",
    "# Convert the input list to a string with elements separated by commas\n",
    "list_as_string = ', '.join(input_list.split(','))\n",
    "\n",
    "print(\"List:\", input_list)\n",
    "print(\"String:\", list_as_string)\n",
    "print(\"Data type after conversion:\", type(list_as_string))\n"
   ]
  },
  {
   "cell_type": "markdown",
   "id": "766666ae",
   "metadata": {},
   "source": [
    "### Q9. Convert from string to list"
   ]
  },
  {
   "cell_type": "code",
   "execution_count": 23,
   "id": "9e472d57",
   "metadata": {},
   "outputs": [
    {
     "name": "stdout",
     "output_type": "stream",
     "text": [
      "Enter a string of numbers containing separated by commas: 4,5,8,9,3,2\n",
      "String: 4,5,8,9,3,2\n",
      "List: (4, 5, 8, 9, 3, 2)\n",
      "Data type after conversion: <class 'tuple'>\n"
     ]
    }
   ],
   "source": [
    "# Approach 1 - Assumes the String list provided has numbers ONLY\n",
    "#[ This may never happen in real-life but lets try this for giggles, expect the expected!]\n",
    "\n",
    "# Get input string from the user\n",
    "string_with_list = input(\"Enter a string of numbers containing separated by commas: \")\n",
    "\n",
    "# Process the input string into a list using eval() - Not recommended for untrusted input!\n",
    "list_from_string = eval(string_with_list)\n",
    "\n",
    "print(\"String:\", string_with_list)\n",
    "print(\"List:\", list_from_string)\n",
    "print(\"Data type after conversion:\", type(list_from_string))\n",
    "\n",
    "#eval(string_with_list) evaluates the string as if it were a line of Python code. \n",
    "#In this case, it treats the content of string_with_list as a list literal and converts it into an actual list.\n"
   ]
  },
  {
   "cell_type": "code",
   "execution_count": 22,
   "id": "0ecbbfa7",
   "metadata": {},
   "outputs": [
    {
     "name": "stdout",
     "output_type": "stream",
     "text": [
      "Enter a string containing elements separated by commas: 3,B,4,$,z,#,great\n",
      "String: 3,B,4,$,z,#,great\n",
      "List: ['', 'B', '4', '$', 'z', '#', 'grea']\n",
      "Data type after conversion: <class 'list'>\n"
     ]
    }
   ],
   "source": [
    "# Approach 2: Using a Single List Comprehension with strip()\n",
    "# Expect the unenexpected(Includes logic to handle numbers,characters and special characters)\n",
    "# Get input string from the user\n",
    "\n",
    "string_with_list = input(\"Enter a string containing elements separated by commas: \")\n",
    "\n",
    "# Process the input string into a list\n",
    "list_from_string = [item.strip() for item in string_with_list[1:-1].split(',')]\n",
    "\n",
    "print(\"String:\", string_with_list)\n",
    "print(\"List:\", list_from_string)\n",
    "print(\"Data type after conversion:\", type(list_from_string))\n",
    "\n"
   ]
  },
  {
   "cell_type": "markdown",
   "id": "8c065931",
   "metadata": {},
   "source": [
    "### Q10. Convert from string to int"
   ]
  },
  {
   "cell_type": "code",
   "execution_count": 32,
   "id": "f5d04f5e",
   "metadata": {},
   "outputs": [
    {
     "name": "stdout",
     "output_type": "stream",
     "text": [
      "Enter a string that represents an integer: forty two\n",
      "Error: The string you entered cannot be converted to an integer.\n"
     ]
    }
   ],
   "source": [
    "# Converting a string like \"forty two\" to an integer using int() would result\n",
    "# in a \"ValueError\" since the string cannot be directly converted to an integer. \n",
    "# To handle such cases, we can use a try-except block to catch the ValueError and handle it appropriately\n",
    "\n",
    "string_num = \"forty two\"\n",
    "# Get a string from the user\n",
    "string_num = input(\"Enter a string that represents an integer: \")\n",
    "\n",
    "try:\n",
    "    int_num = int(string_num)\n",
    "    print(\"String:\", string_num)\n",
    "    print(\"Integer:\", int_num)\n",
    "    print(\"Data type after conversion:\", type(int_num))\n",
    "except ValueError:\n",
    "    print(\"Error: The string you entered cannot be converted to an integer.\")\n",
    "\n",
    "\n"
   ]
  }
 ],
 "metadata": {
  "kernelspec": {
   "display_name": "Python 3",
   "language": "python",
   "name": "python3"
  },
  "language_info": {
   "codemirror_mode": {
    "name": "ipython",
    "version": 3
   },
   "file_extension": ".py",
   "mimetype": "text/x-python",
   "name": "python",
   "nbconvert_exporter": "python",
   "pygments_lexer": "ipython3",
   "version": "3.8.8"
  }
 },
 "nbformat": 4,
 "nbformat_minor": 5
}
